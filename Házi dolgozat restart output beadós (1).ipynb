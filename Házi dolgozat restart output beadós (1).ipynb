{
 "cells": [
  {
   "cell_type": "markdown",
   "id": "2c459c27",
   "metadata": {},
   "source": [
    "# Házidolgozat: UFC adatelemzés\n",
    "\n",
    "Házidolgozatom során a világ legnagyobb ketrecharc szervezetének, az UFC atlétáinak adataival dolgoztam. A hivatalos weboldaljukról szereztem be az adatokat. Mivel eleinte a weboldal csak kb. 10 sportolót mutat, a load more gombra kell kattintani, hogy még tizet megmutasson. Mivel összesen 2857 atléta van az UFC alkalmazásában írtam egy scriptet a Selenium package segítségével, ami megnyitja a cromeot és folyamatosan rákattint a load more gombra és így ki tudja szedni az összes adatot a weboldalról. Többször is megszakadt a data scrapelésem az adatbányászat különböző pontjain, így rájöttem, hogy a site dob le agressive data scraping miatt. Emiatt a random package segítségével véletlenszerű időintervallumot generáltam a klikkelésekre, hogy emberszerűbb legyen a scrape és ne hajítson le a weboldal. Elsőre leszedte 1-3 mp közötti időintervallumos kattintásokkal az egész dataframe-t, kb. 15 perc volt. Másodjára ugyanezen beállításokkal kb. 600 lescrapelt küzdősportoló után ledobott a site megint, úgyhogy 2-5 mp-re álltítottam be, így jelenlegi beálíltások mellett 25 perc alatt szedi le az adatokat. Nyilván utólag megállapítva ez nem a legoptimálisabb használandó adathalmaz volt, de elég mélyen belemerűltem a témába és jó irányba indultam el az elején ezzel a megoldással, így sikerült valami újat tanulnom. A scrapelt datát rögtön lementettem egy excelbe, ami egyfajta ,,biztonsági mentési\" pontként szolgált nekem, hogy ne kelljen állandóan újból 20 percet várnom az adatokra, ha elrontok valamit. Ezt a fájlt is mellékelem a notebook mellé, amennyiben nincsen kedve sokat várnia az adatokra a tanárnőnek. Az adathalmazunkról annyit lehet tudni, hogy minden harcosnak 4 változója van az adatokban. A neve, súlycsoportja, beceneve és mérlege. A mérleg oszlopot szétszedtem 3 különböző oszlopra (győzelem,vereség,döntetlen) és ezzel végeztem többnyire kisebb adatvizualizációkat és elemzéseket. Azon nem kell meglepődni, hogy jelentős túlsúlyban vannak a győzelmek a vereségekhez képest, ennél a szervezetnél a világ legjobbjai versenyeznek, és komoly mérleget harcolnak össze maguknak kisebb szervezeteknél, mielőtt felkeltenék az UFC figyelmét és leigazolnák őket ide. Döntetlenek nagyon ritkán fordulnak elő a sport pontozási mivoltja miatt. Három menetes meccseket vívnak átlagos párosításokon, címmeccseken ötöt és a bírók a meneteket többnyire 10-9 arányban pontozzák. Az adatok egyaránt tartalmaznak férfi és női versenyzőket, utóbbiaknak az adatokban a súlycsoportnál ez fel van tüntetve. Azt kérem vegye figyelembe a tanárnő, hogy én a GTK-ra járok alapból és nem rendelkezem olyan mértékű statisztikai tudással, mint a többiek.  \n",
    "\n",
    "Winkler Dávid"
   ]
  },
  {
   "cell_type": "markdown",
   "id": "7a75eae4",
   "metadata": {},
   "source": [
    "Első lépésként előre betöltjük az összes szükséges packaget, amit később használni fogunk."
   ]
  },
  {
   "cell_type": "code",
   "execution_count": null,
   "id": "0cf1b000",
   "metadata": {},
   "outputs": [],
   "source": [
    "import ssl # Importáljuk az összes szükséges packaget, mindent feltelepítettem a saját gépemre, a seleniumot is.\n",
    "import urllib\n",
    "from bs4 import BeautifulSoup\n",
    "import pandas as pd\n",
    "import numpy as np\n",
    "import matplotlib\n",
    "import time  \n",
    "import random # Ez a randomszám generáláshoz kell, hogy ne dobjon le a weboldal agressive data scraping miatt\n",
    "from selenium import webdriver # Selenium packaget használjuk a script írásához, ami folyamatosan rákattint a load more gombra \n",
    "from selenium.webdriver.common.by import By # Többféle változata is volt a kódnak, nem biztos hogy ezek közül kell még mindegyik\n",
    "from selenium.webdriver.support.ui import WebDriverWait # De biztosra menve bennehagyom mindegyiket a kódban\n",
    "from selenium.webdriver.support import expected_conditions as EC\n",
    "from selenium.common.exceptions import NoSuchElementException, StaleElementReferenceException\n",
    "from selenium.webdriver.common.keys import Keys\n",
    "\n"
   ]
  },
  {
   "cell_type": "markdown",
   "id": "a544198e",
   "metadata": {},
   "source": [
    "Ezután a selenium package segítségével megszerezzük az összes ketrecharcosnak az adatait."
   ]
  },
  {
   "cell_type": "code",
   "execution_count": null,
   "id": "0b66caef",
   "metadata": {},
   "outputs": [],
   "source": [
    "driver = webdriver.Chrome()\n",
    "driver.get(\"https://www.ufc.com/athletes/all\") # Ez a weboldal címe, ahonnan leszedtem az adatokat.\n",
    "\n",
    "# Megtalálja a \"Load More\" gombot és addig klikkel rá, amíg be nem tölti a weboldal az összes atlétát\n",
    "while True:\n",
    "    try:\n",
    "        load_more_button = driver.find_element(By.CLASS_NAME, \"pager__item\") # Ez a load more gomb\n",
    "        load_more_button.click()\n",
    "        delay = random.uniform(2, 5)  # Véletlenszerű szünetet generál kettő klikkelés között  2 és 5 másodperc hosszan\n",
    "        time.sleep(delay) # 1-3 mp között, volt, hogy leszedte az egészet, de olyan is, hogy ledobott, ez így kb.20 perc\n",
    "    except (NoSuchElementException, StaleElementReferenceException):\n",
    "        break\n",
    "\n",
    "# Begyűjtjük az atléták adatait\n",
    "soup = BeautifulSoup(driver.page_source, \"html.parser\")\n",
    "elemek = soup.find_all('li', {'class': 'l-flex__item'})\n",
    "data = []\n",
    "for elem in range(len(elemek)):\n",
    "    kislista = []\n",
    "\n",
    "    név = elemek[elem].find('span', {'class': 'c-listing-athlete__name'}) # A kódnak ez a része begyűjti az atléták neveit\n",
    "    név2 = név.text.strip() if név else None\n",
    "    kislista.append(név2)\n",
    "\n",
    "    súlycsoport = elemek[elem].find('span', {'class': 'c-listing-athlete__title'}) # Ez a része a súlycsoportját\n",
    "    súlycsoport2 = súlycsoport.text.strip() if súlycsoport else None\n",
    "    kislista.append(súlycsoport2)\n",
    "\n",
    "    try:\n",
    "        becenév = elemek[elem].find('div', {'class': 'field field--name-nickname field--type-string field--label-hidden'})\n",
    "        becenév2 = becenév.text.strip() if becenév else None # Ez a beceneveiket, nem rendelkezik mindenki ilyen adattal\n",
    "        kislista.append(becenév2)\n",
    "    except:\n",
    "        kislista.append(None)\n",
    "\n",
    "    mérleg = elemek[elem].find('span', {'class': 'c-listing-athlete__record'}) # Ez pedig a mérlegüket (győzelem,vereség,döntetlen)\n",
    "    mérleg2 = mérleg.text.strip() if mérleg else None\n",
    "    kislista.append(mérleg2)\n",
    "\n",
    "    data.append(kislista)\n",
    "\n",
    "# Megcsináljuk a DataFrame-t\n",
    "df = pd.DataFrame(data, columns=[\"Név\", \"Súlycsoport\", \"Becenév\", \"Mérleg\"])\n",
    "\n",
    "# Megnézzük a DataFrame-t\n",
    "df.head(2857)"
   ]
  },
  {
   "cell_type": "markdown",
   "id": "4a71cd5f",
   "metadata": {},
   "source": [
    "Excelként letöltjük a dataframe-t."
   ]
  },
  {
   "cell_type": "code",
   "execution_count": null,
   "id": "cc41c47e",
   "metadata": {},
   "outputs": [],
   "source": [
    "df.to_excel('ufc.xlsx', index=False) # Excelként letöltjük a dataframe-t, ezt el is küldöm majd"
   ]
  },
  {
   "cell_type": "code",
   "execution_count": null,
   "id": "ecc73bc4",
   "metadata": {},
   "outputs": [],
   "source": [
    "df = pd.read_excel('ufc.xlsx') # Itt tudjuk betölteni, egy elrontott kód után én is itt töltöttem vissza\n",
    "df.head(10)"
   ]
  },
  {
   "cell_type": "markdown",
   "id": "b92199b0",
   "metadata": {},
   "source": [
    "Kisebb időközönként becsúszott egy-egy üres sor az adatokba, mert ,,üres\" helyek is vannak a weboldalon. Ezeket el kell távolítani."
   ]
  },
  {
   "cell_type": "code",
   "execution_count": null,
   "id": "f33f39e7",
   "metadata": {},
   "outputs": [],
   "source": [
    "# Megtisztítjuk az adathalmazunkat, azoktól a soroktól melyeknél minden érték üres\n",
    "df.dropna(how='all', inplace=True)\n",
    "\n",
    "# Megnézzük a javított DataFrame-t\n",
    "df.head(3200) # Amikor ezt készítem 2857 fighternek kell lennie, ha többet írok a headbe tudom ellenőrizni ezt a számot"
   ]
  },
  {
   "cell_type": "markdown",
   "id": "95d86f57",
   "metadata": {},
   "source": [
    "Mivel a súlycsoportok angolul vannak, szeretnénk ezt lefordítani. Más ketrecharc egyesületeknél léteznek szalmasúlyú és szupernehéz férfiak, valamint nehezebb női súlycsoportok is. Bár a súlycsoportok más organizációknál is ugyanezen határral léteznek, mindig az adott szervezet dönti el, hogy igazol-e ezekbe versenyzőket egymás elleni versenyezteztetés céljából.  "
   ]
  },
  {
   "cell_type": "code",
   "execution_count": null,
   "id": "6966481d",
   "metadata": {},
   "outputs": [],
   "source": [
    "# Meghatározzuk a súlycsoportok magyar neveit\n",
    "súlycsoport_lefordítás = {\n",
    "    'Flyweight': 'Légsúly', # 52,2-56,7 kg\n",
    "    'Bantamweight': 'Harmatsúly', # 56,7-61,2 kg\n",
    "    'Featherweight': 'Pehelysúly', # 65,8-70,3 kg\n",
    "    'Lightweight': 'Könnyűsúly', # 70,3-74,8 kg\n",
    "    'Welterweight': 'Váltósúly', # 74,8-77,1 kg\n",
    "    'Middleweight': 'Középsúly', # 77,1-83,9 kg\n",
    "    'Light Heavyweight': 'Cirkálósúly', # 83,9-93,0 kg\n",
    "    'Heavyweight': 'Nehézsúly', # 93,0-120,2 kg\n",
    "    'Women\\'s Strawweight': 'Női Szalmasúly', # < 52,2 kg\n",
    "    'Women\\'s Flyweight': 'Női Légsúly', # 52,2-56,7 kg\n",
    "    'Women\\'s Bantamweight': 'Női Harmatsúly', # 56,7-61,2 kg\n",
    "    'Women\\'s Featherweight': 'Női Pehelysúly', # 65,8-70,3 kg\n",
    "    'Women\\'s Bantamweight\\nWomen\\'s Featherweight': 'Női Harmatsúly és Pehelysúly' # Egy későbbi kód során lett felfedezve\n",
    "}\n",
    "\n",
    "# Helyettesítjük a súlycsoportok értékeit a magyar neveikkel\n",
    "df['Súlycsoport'] = df['Súlycsoport'].replace(súlycsoport_lefordítás)"
   ]
  },
  {
   "cell_type": "code",
   "execution_count": null,
   "id": "d3afbdc4",
   "metadata": {},
   "outputs": [],
   "source": [
    "df.head() # Megnézzük sikerrel jártunk-e"
   ]
  },
  {
   "cell_type": "markdown",
   "id": "f0663f8f",
   "metadata": {},
   "source": [
    "A Mérleg oszlopot felosztjuk 3 oszlopra, hogy tudjunk elemzéseket végezni."
   ]
  },
  {
   "cell_type": "code",
   "execution_count": null,
   "id": "acedb869",
   "metadata": {},
   "outputs": [],
   "source": [
    "# Felosztjuk a 'Mérleg' oszlopot három különálló oszlopra, hogy tudjunk elemzéseket végezni az adathalmazunkon\n",
    "split_data = df['Mérleg'].str.split('-', expand=True)\n",
    "df['Győzelem'] = split_data[0]\n",
    "df['Vereség'] = split_data[1]\n",
    "df['Döntetlen'] = split_data[2].str.rstrip(' (W') # A W-t ki kell szedni a döntetlen oszlopból\n",
    "\n",
    "# Kiszedjük a 'Mérleg' oszlopot\n",
    "df.drop('Mérleg', axis=1, inplace=True)\n",
    "\n",
    "# Megnézzük a javított DataFrame-t\n",
    "df.head()"
   ]
  },
  {
   "cell_type": "markdown",
   "id": "65e1b713",
   "metadata": {},
   "source": [
    "Szeretnénk azt megtudni, milyen győzelmi aránnyal rendelkeznek együttesen az UFC harcosai. Ezt vizualizáljuk egy kördiagrammon."
   ]
  },
  {
   "cell_type": "code",
   "execution_count": null,
   "id": "1a68cb74",
   "metadata": {},
   "outputs": [],
   "source": [
    "import matplotlib.pyplot as plt\n",
    "\n",
    "# Kiszámoljuk a harcosok összesített győzelmeit, vereségeit és döntlenjeiket\n",
    "összes_győzelem = df['Győzelem'].astype(int).sum()\n",
    "összes_vereség = df['Vereség'].astype(int).sum()\n",
    "összes_döntetlen = df['Döntetlen'].astype(int).sum()\n",
    "\n",
    "# Csinálunk egy listát a különböző kimenetelek érétkeinek\n",
    "kimenetelek = [összes_győzelem, összes_vereség, összes_döntetlen]\n",
    "\n",
    "# Csinálunk egy listát a különböző eredmények cimkézéseihez\n",
    "címkék = ['Győzelmek', 'Vereségek', 'Döntetlenek']\n",
    "\n",
    "# Csinálunk egy kördiagrammot\n",
    "plt.pie(kimenetelek, labels=címkék, autopct='%1.1f%%', startangle=90)\n",
    "\n",
    "# Adunk neki egy címet\n",
    "plt.title('Összesített győzelmek, vereségek, és döntetlenek százalékos aránya a harcosok mérlegeiben')\n",
    "\n",
    "# Megjelenítjük az ábrát\n",
    "plt.show()"
   ]
  },
  {
   "cell_type": "markdown",
   "id": "62fccf7a",
   "metadata": {},
   "source": [
    "Ezután a UFC harcosainak nem az összesített győzelmi arányára, hanem a kombinált mérlegére vagyunk kiváncsiak. Ezt egy oszlopdiagrammon szeretnénk vizualizálni."
   ]
  },
  {
   "cell_type": "code",
   "execution_count": null,
   "id": "1f5f0c22",
   "metadata": {},
   "outputs": [],
   "source": [
    "import matplotlib.pyplot as plt\n",
    "\n",
    "# Kiszámoljuk a kombinált mérlegét az atlétáknak\n",
    "kombinált_eredmények = df[['Győzelem', 'Vereség', 'Döntetlen']].astype(int).sum()\n",
    "\n",
    "# Csinálunk egy oszlopdiagrammot a kombinált eredményeknek\n",
    "plt.figure()\n",
    "plt.bar(kombinált_eredmények.index, kombinált_eredmények.values)\n",
    "plt.ylabel('Gyakoriság')\n",
    "plt.title('Összesített mérleg')\n",
    "\n",
    "# Megjelenítjük az ábrát\n",
    "plt.show()\n",
    "\n",
    "# Kiszámoljuk a kombinált mérlegét az atlétáknak\n",
    "kombinált_mérleg = df[['Győzelem', 'Vereség', 'Döntetlen']].astype(int).sum()\n",
    "kombinált_mérleg_str = f\"{kombinált_mérleg['Győzelem']}-{kombinált_mérleg['Vereség']}-{kombinált_mérleg['Döntetlen']}\"\n",
    "\n",
    "# Kiprinteljük a harcosok összesített mérlegét\n",
    "print(\"Összesített mérleg:\", kombinált_mérleg_str)"
   ]
  },
  {
   "cell_type": "markdown",
   "id": "ca77a3e4",
   "metadata": {},
   "source": [
    "Szeretnénk megtudni mely súlycsoportban hányan versenyeznek az UFC keretein belül."
   ]
  },
  {
   "cell_type": "code",
   "execution_count": null,
   "id": "76d46680",
   "metadata": {
    "scrolled": true
   },
   "outputs": [],
   "source": [
    "df['Súlycsoport'].value_counts() # Megnézzük mely súlycsoportokban hány harcost foglalkoztat a UFC"
   ]
  },
  {
   "cell_type": "markdown",
   "id": "10042b5e",
   "metadata": {},
   "source": [
    "Vizualizáljuk ezt oszlopdiagrammon is."
   ]
  },
  {
   "cell_type": "code",
   "execution_count": null,
   "id": "87467352",
   "metadata": {
    "scrolled": true
   },
   "outputs": [],
   "source": [
    "df['Súlycsoport'].value_counts().plot(kind='bar') # Vizualizáljuk oszlopdiagrammon az előző eredményeket"
   ]
  },
  {
   "cell_type": "markdown",
   "id": "e46626aa",
   "metadata": {},
   "source": [
    "Mivel nem jön ki a matek valószínűsíthetően egyes ketrecharcosoknak nincsen megadva súlycsoport az adatokban. Szeretnénk megtudni hány ilyen versenyző van. (2786 jön ki, ha az összes számot összeadjuk és 2857 atlétának kell lennie elvileg)"
   ]
  },
  {
   "cell_type": "code",
   "execution_count": null,
   "id": "c3af91e3",
   "metadata": {},
   "outputs": [],
   "source": [
    "# Count the number of people without weight classes\n",
    "súlycsoport_nélküli = df['Súlycsoport'].isna().sum()\n",
    "\n",
    "# Kiprinteljük az eredményt\n",
    "print(\"Megjelölt súlycsoport nélküli atléták az adatokban:\", súlycsoport_nélküli)"
   ]
  },
  {
   "cell_type": "markdown",
   "id": "4d8d3bb7",
   "metadata": {},
   "source": [
    "Megkeressük a hölgyet, aki kettő súlycsoportban is versenyez egyszerre."
   ]
  },
  {
   "cell_type": "code",
   "execution_count": null,
   "id": "8d5af336",
   "metadata": {},
   "outputs": [],
   "source": [
    "df_kettős = df[df['Súlycsoport'].str.contains(\"Női Harmatsúly\") & df['Súlycsoport'].str.contains(\"Pehelysúly\")]\n",
    "dupla_súlycsoportos = df_kettős.iloc[0] # Megkeressük a hölgyet, aki kettő súlycsoportban versenyez egyszerre\n",
    "\n",
    "dupla_súlycsoportos"
   ]
  },
  {
   "cell_type": "markdown",
   "id": "bfc06bb9",
   "metadata": {},
   "source": [
    "Arra vagyunk kiváncsiak, hányan versenyeznek a UFC-ben a női és a férfi súlycsoportokban. Ezt szeretnénk oszlopdiagrammon vizualizálni. (Ebben a súlycsoport nélküli 71 természetesen nincsen benne)"
   ]
  },
  {
   "cell_type": "code",
   "execution_count": null,
   "id": "126d66c1",
   "metadata": {},
   "outputs": [],
   "source": [
    "import matplotlib.pyplot as plt\n",
    "\n",
    "# Megszámoljuk az összes súlycsoportnak az előfordulását\n",
    "súly_csoportok_számolása = df['Súlycsoport'].value_counts()\n",
    "\n",
    "# Elválasztjuk a nőket a férfiaktól\n",
    "női_súly_csoportok = súly_csoportok_számolása[súly_csoportok_számolása.index.str.startswith('Női')]\n",
    "férfi_súly_csoportok = súly_csoportok_számolása[~súly_csoportok_számolása.index.str.startswith('Női')]\n",
    "\n",
    "# Csinálunk egy oszlopdiagrammot\n",
    "plt.bar(['Női', 'Férfi'], [női_súly_csoportok.sum(), férfi_súly_csoportok.sum()], color=['pink', 'blue'])\n",
    "\n",
    "# Beállítjuk a címet és a magyarázó szövegeket\n",
    "plt.xlabel('Nem')\n",
    "plt.ylabel('Harcosok száma')\n",
    "plt.title('Harcosok száma nem szerint')\n",
    "\n",
    "# Megjelenítjük az eredményeket\n",
    "for i, count in enumerate([női_súly_csoportok.sum(), férfi_súly_csoportok.sum()]):\n",
    "    plt.text(i, count, str(count), ha='center', va='bottom')\n",
    "\n",
    "# Megjelenítjük a diagramot\n",
    "plt.show()"
   ]
  },
  {
   "cell_type": "markdown",
   "id": "06df895d",
   "metadata": {},
   "source": [
    "A UFC-ben a harcosok nagy része rendelkezik becenévvel, amivel a szervezet promózza őket, és ők reklámozzák önmagukat. Kiváncsiak vagyunk arra, hogy hány harcos rendelkezik ilyen adattal és hányan nem. Ezt szintén szeretnénk vizualizálni."
   ]
  },
  {
   "cell_type": "code",
   "execution_count": null,
   "id": "da13b730",
   "metadata": {},
   "outputs": [],
   "source": [
    "import matplotlib.pyplot as plt\n",
    "\n",
    "# Rászűrűnk az adathalmazban azokra, akiknek van beceneve\n",
    "van_beceneve = df.dropna(subset=['Becenév'])\n",
    "\n",
    "# Rászűrűnk azokra az adathalmazban, akiknek nincsen beceneve\n",
    "nincs_beceneve = df[df['Becenév'].isna()]\n",
    "\n",
    "# Megszámoljuk a beceneves és nem beceneves harcosokaz\n",
    "van_beceneve_szám = len(van_beceneve)\n",
    "nincs_beceneve_szám = len(nincs_beceneve)\n",
    "\n",
    "# Készítünk egy oszlopdiagrammot\n",
    "plt.figure(figsize=(8, 6))  # Beállítjuk a méreteket preferencia szerint\n",
    "\n",
    "# Plotoljuk a becenévvel rendelkező harcosokat és megjelenítjük az eredményeket\n",
    "plt.bar('Becenévvel rendelkezik', van_beceneve_szám, color='blue')\n",
    "plt.text('Becenévvel rendelkezik', van_beceneve_szám, str(van_beceneve_szám), ha='center', va='bottom')\n",
    "\n",
    "# Plotoljuk a becenév nélküli harcosokat és megjelenítjük az eredményeket\n",
    "plt.bar('Becenévvel nem rendelkezik', nincs_beceneve_szám, color='red')\n",
    "plt.text('Becenévvel nem rendelkezik', nincs_beceneve_szám, str(nincs_beceneve_szám), ha='center', va='bottom')\n",
    "\n",
    "# Beállítjuk a magyarázatokat és a címet\n",
    "plt.xlabel('Becenév')\n",
    "plt.ylabel('Mennyiség')\n",
    "plt.title('Becenévvel rendelkező és nem rendelkező harcosok száma')\n",
    "\n",
    "# Megjelenítjük a diagrammot\n",
    "plt.show()"
   ]
  },
  {
   "cell_type": "markdown",
   "id": "d59b5f64",
   "metadata": {},
   "source": [
    "Szeretnénk megtalálni a leggyakoribb beceneveket, amit a harcosok felvettek."
   ]
  },
  {
   "cell_type": "code",
   "execution_count": null,
   "id": "e4b79eea",
   "metadata": {},
   "outputs": [],
   "source": [
    "import matplotlib.pyplot as plt\n",
    "\n",
    "# Csoportosítjuk a DataFramet Becenév szerint és megszámoljuk a gyakoriságot\n",
    "becenév_számlálás = df.groupby('Becenév').size().reset_index(name='Gyakoriság')\n",
    "\n",
    "# Rászűrünk, hogy csak a többszörös előfordulás jelenjen meg\n",
    "gyakori_becenév = becenév_számlálás[becenév_számlálás['Gyakoriság'] > 2] # Ez azért van 3 vagy többre állítva, mert 1+-nál egybefolynak a dolgok\n",
    "\n",
    "# Létrehozzuk a diagrammot\n",
    "plt.figure(figsize=(10, 6))  # Preferencia alapján beállítjuk a méreteket\n",
    "\n",
    "# Ábrázolja a harcosok számát ugyanazzal a becenévvel és jelenítse meg az értékeket\n",
    "plt.bar(gyakori_becenév['Becenév'], gyakori_becenév['Gyakoriság'], color='blue')\n",
    "\n",
    "# Beállítja a magyarázatokat és a címet\n",
    "plt.xlabel('Becenév')\n",
    "plt.ylabel('Gyakoriság')\n",
    "plt.title('Harcosok ugyanolyan becenevei')\n",
    "\n",
    "# 90 fokkal elfordítjuk x tengely magyarázatait jobb láthatóság miatt\n",
    "plt.xticks(rotation=90)\n",
    "\n",
    "# Megjelenítjük a diagrammot.\n",
    "plt.show()"
   ]
  },
  {
   "cell_type": "markdown",
   "id": "0f8aaa64",
   "metadata": {},
   "source": [
    "Az előző diagrammon láttuk, hogy néhány nevet elég sokan használnak, valamint az 5. leggyakrabban használt becenév esetén holtverseny van. Szeretnénk megjeleníteni ezért a 6 leggyakrabban használt becenevet felvevő harcosoknak az adatait, hogy láthassuk kik ezek a küzdősportolók."
   ]
  },
  {
   "cell_type": "code",
   "execution_count": null,
   "id": "4e12dca2",
   "metadata": {},
   "outputs": [],
   "source": [
    "# Csoportosítsuk a DataFrame-et \"Becenév\" alapján, és számoljuk meg az előfordulások számát\n",
    "becenev_elofordulasok = df['Becenév'].value_counts()\n",
    "\n",
    "# Válasszuk ki a N leggyakoribb \"Becenév\" értéket\n",
    "top_n = 6  # Itt tudjuk megadni, hány leggyakoribb értéket szeretnénk figyelembe venni\n",
    "top_becenev = becenev_elofordulasok.head(top_n)\n",
    "\n",
    "# Hozzunk létre egy tuple listát a \"Becenév\" értékkel és a hozzá tartozó harcosokkal\n",
    "eredmeny = [(becenev, df[df['Becenév'] == becenev]) for becenev in top_becenev.index]\n",
    "\n",
    "# Írjuk ki az adatokat\n",
    "for becenev, harcosok in eredmeny:\n",
    "    print(f\"Becenév: {becenev}\")\n",
    "    print(\"Harcosok:\")\n",
    "    harcosok_megjelenites = harcosok[['Név', 'Súlycsoport', 'Győzelem', 'Vereség', 'Döntetlen']]\n",
    "    print(harcosok_megjelenites.to_string(index=False))\n",
    "    print()"
   ]
  }
 ],
 "metadata": {
  "kernelspec": {
   "display_name": "Python 3 (ipykernel)",
   "language": "python",
   "name": "python3"
  },
  "language_info": {
   "codemirror_mode": {
    "name": "ipython",
    "version": 3
   },
   "file_extension": ".py",
   "mimetype": "text/x-python",
   "name": "python",
   "nbconvert_exporter": "python",
   "pygments_lexer": "ipython3",
   "version": "3.11.2"
  }
 },
 "nbformat": 4,
 "nbformat_minor": 5
}
